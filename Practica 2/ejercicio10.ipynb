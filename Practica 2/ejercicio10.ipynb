{
 "cells": [
  {
   "cell_type": "code",
   "execution_count": 30,
   "metadata": {},
   "outputs": [],
   "source": [
    "names = \"\"\" Agustin, Yanina, Andrés, Ariadna, Bautista, CAROLINA, \n",
    "CESAR, David, Diego, Dolores, DYLAN, ELIANA, Emanuel, Fabián, Noelia, \n",
    "Francsica', FEDERICO, Fernanda, GONZALO, Nancy \"\"\"\n",
    "goals = [0, 10, 4, 0, 5, 14, 0, 0, 7, 2, 1, 1, 1, 5, 6, 1, 1, 2, 0, \n",
    "11]\n",
    "goals_avoided = [0, 2, 0, 0, 5, 2, 0, 0, 1, 2, 0, 5, 5, 0, 1, 0, 2, \n",
    "3, 0, 0]\n",
    "assists = [0, 5, 1, 0, 5, 2, 0, 0, 1, 2, 1, 5, 5, 0, 1, 0, 2, 3, 1, \n",
    "0]"
   ]
  },
  {
   "cell_type": "markdown",
   "metadata": {},
   "source": [
    "Le saco las comas al string de names, lo paso a minusculas y genero una lista formada por los nombres"
   ]
  },
  {
   "cell_type": "code",
   "execution_count": 31,
   "metadata": {},
   "outputs": [],
   "source": [
    "\n",
    "clean_names = names.replace(',','').lower().split()"
   ]
  },
  {
   "cell_type": "markdown",
   "metadata": {},
   "source": [
    "Importo el modulo 'calculadora' donde estan las funciones para resolver los incisos"
   ]
  },
  {
   "cell_type": "code",
   "execution_count": 32,
   "metadata": {},
   "outputs": [],
   "source": [
    "import calculadora as c"
   ]
  },
  {
   "cell_type": "markdown",
   "metadata": {},
   "source": [
    "Llamo a la funcion dentro de calculadora llamada generar_estructura, pasandole como parametro las listas proporcionadas, la cual me devuelve un diccionario, donde la key es el nombre y el valor es una tupla con las estadisticas, y lo almaceno en player_stats"
   ]
  },
  {
   "cell_type": "code",
   "execution_count": 33,
   "metadata": {},
   "outputs": [
    {
     "name": "stdout",
     "output_type": "stream",
     "text": [
      "{'agustin': (0, 0, 0), 'yanina': (10, 2, 5), 'andrés': (4, 0, 1), 'ariadna': (0, 0, 0), 'bautista': (5, 5, 5), 'carolina': (14, 2, 2), 'cesar': (0, 0, 0), 'david': (0, 0, 0), 'diego': (7, 1, 1), 'dolores': (2, 2, 2), 'dylan': (1, 0, 1), 'eliana': (1, 5, 5), 'emanuel': (1, 5, 5), 'fabián': (5, 0, 0), 'noelia': (6, 1, 1), \"francsica'\": (1, 0, 0), 'federico': (1, 2, 2), 'fernanda': (2, 3, 3), 'gonzalo': (0, 0, 1), 'nancy': (11, 0, 0)}\n"
     ]
    }
   ],
   "source": [
    "player_stats = c.generar_estructura(clean_names,goals,goals_avoided,assists)\n",
    "print(player_stats)"
   ]
  },
  {
   "cell_type": "markdown",
   "metadata": {},
   "source": [
    "Llamo a la funcion goleador dentro del modulo calculadora, le paso como parametro la estructura generada anteriormente, y esta me devuelve una tupla con nombre y cantidad de goles del goleador, y lo almaceno en la variable jugador_goleador"
   ]
  },
  {
   "cell_type": "code",
   "execution_count": 34,
   "metadata": {},
   "outputs": [
    {
     "name": "stdout",
     "output_type": "stream",
     "text": [
      "El jugador con mas goles es carolina e hizo 14 goles\n"
     ]
    }
   ],
   "source": [
    "jugador_goleador = c.goleador(player_stats)\n",
    "print(f'El jugador con mas goles es {jugador_goleador[0]} e hizo {jugador_goleador[1]} goles')"
   ]
  },
  {
   "cell_type": "markdown",
   "metadata": {},
   "source": [
    "Llamo a la funcion mas_influyente del modulo calculadora, le paso como parametro la estructura generada en el primer inciso e imprime el nombre del jugador mas influyente del partido, en base a los criterios establecidos"
   ]
  },
  {
   "cell_type": "code",
   "execution_count": 35,
   "metadata": {},
   "outputs": [
    {
     "name": "stdout",
     "output_type": "stream",
     "text": [
      "jugador mas influyente es carolina\n"
     ]
    }
   ],
   "source": [
    "print(f'jugador mas influyente es {c.mas_influyente(player_stats)}')"
   ]
  },
  {
   "cell_type": "markdown",
   "metadata": {},
   "source": [
    "Llamo a la funcion promedio_goles del modulo calculadora, le paso como parametro la lista de goles proporcionada e imprimo el promedio de goles por partido"
   ]
  },
  {
   "cell_type": "code",
   "execution_count": 36,
   "metadata": {},
   "outputs": [
    {
     "name": "stdout",
     "output_type": "stream",
     "text": [
      "El promedio de goles es: 2.84\n"
     ]
    }
   ],
   "source": [
    "print(f'El promedio de goles es: {c.promedio_goles(goals)}')"
   ]
  },
  {
   "cell_type": "markdown",
   "metadata": {},
   "source": [
    "Llamo a la funcion promedio_goleador del modulo calculadora, pasandole como parametro el segundo elemento de jugador_goleador que contiene la cantidad de goles del goleador, e imprime el promedio de goles por partido del goleador"
   ]
  },
  {
   "cell_type": "code",
   "execution_count": 37,
   "metadata": {},
   "outputs": [
    {
     "name": "stdout",
     "output_type": "stream",
     "text": [
      "el promedio de goles por partido del goleador fue 0.56\n"
     ]
    }
   ],
   "source": [
    "print(f'el promedio de goles por partido del goleador fue {c.promedio_goleador(jugador_goleador[1])}')"
   ]
  }
 ],
 "metadata": {
  "kernelspec": {
   "display_name": "Python 3",
   "language": "python",
   "name": "python3"
  },
  "language_info": {
   "codemirror_mode": {
    "name": "ipython",
    "version": 3
   },
   "file_extension": ".py",
   "mimetype": "text/x-python",
   "name": "python",
   "nbconvert_exporter": "python",
   "pygments_lexer": "ipython3",
   "version": "3.11.7"
  }
 },
 "nbformat": 4,
 "nbformat_minor": 2
}
